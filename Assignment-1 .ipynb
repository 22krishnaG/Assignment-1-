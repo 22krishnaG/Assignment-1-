{
 "cells": [
  {
   "cell_type": "markdown",
   "id": "2167fb94",
   "metadata": {},
   "source": [
    "# Assignment - 1"
   ]
  },
  {
   "cell_type": "markdown",
   "id": "432ff598",
   "metadata": {},
   "source": [
    "### Q.1 Who develop Python Programming Language?"
   ]
  },
  {
   "cell_type": "markdown",
   "id": "2862298b",
   "metadata": {},
   "source": [
    "#### Ans: Python was Created by \"Guido van Rossum\" in the late 1980's while he was working at the National Research Institute for Mathematics and Computer Science in the Netherlands.\n",
    "#### The development of Python was inspired by ABC, a programming language that was intended to be easy to learn and use. Van Rossum aimed to create a language that would be simple, easy to read, and have a clear syntax, ehile also being powerful and flexible.\n",
    "#### Python 1st version is released in February 1991"
   ]
  },
  {
   "cell_type": "markdown",
   "id": "4752b1d0",
   "metadata": {},
   "source": [
    "### Q.2 Which type of Programming does Python support?"
   ]
  },
  {
   "cell_type": "markdown",
   "id": "639ca293",
   "metadata": {},
   "source": [
    "#### Ans: Python is a versatile programming language that supports a wide variety of programming paradigms, including:\n",
    "#### Procedural programming: Python supports procedural programming, which involves creating procedures or functions that perform specific tasks and can be called multiple times from different parts of a program.\n",
    "\n",
    "#### 1.  Object-oriented programming: Python supports object-oriented programming (OOP), which involves creating classes and objects that encapsulate data and behavior. OOP is useful for organizing and structuring large programs.\n",
    "\n",
    "#### 2.Functional programming: Python supports functional programming, which involves using functions as first-class objects and building programs using functions and immutable data structures.\n",
    "\n",
    "#### 3.Scripting: Python is often used as a scripting language, which means it can be used to automate tasks, such as file operations or system administration tasks.\n",
    "\n",
    "#### 4. Web development: Python supports web development through frameworks such as Django and Flask, which provide tools for building web applications.\n",
    "\n",
    "#### 5. Data science and machine learning: Python has become one of the most popular programming languages for data science and machine learning due to its simplicity, ease of use, and the availability of powerful libraries such as NumPy, Pandas, Scikit-Learn, and TensorFlow."
   ]
  },
  {
   "cell_type": "markdown",
   "id": "12b051a9",
   "metadata": {},
   "source": [
    "### Q.3 Is Python case sensitive whean dealing with identifiers?"
   ]
  },
  {
   "cell_type": "markdown",
   "id": "3cf9d601",
   "metadata": {},
   "source": [
    "#### Ans: Python is case sensitive programming language as it treats uppercase and lowercase characters differently. Not only the characters it also treats the identifiers the same way. Since the language is case sensitive the user must be aware of case sensitivity while naming and assigning value to characters. You should be care ul for naming count1 and count2 if you wish to keep counts of two values"
   ]
  },
  {
   "cell_type": "markdown",
   "id": "58a41f67",
   "metadata": {},
   "source": [
    "### Q.4 What is the correct extension of the Python file?"
   ]
  },
  {
   "cell_type": "markdown",
   "id": "3a97f46d",
   "metadata": {},
   "source": [
    "#### Ans: The correct extension of the Python file is \".py\". when you save a Python file. We should give it a name that ends with the \".py\" extension to indicate that it contains Python code.\n",
    "#### For example :- If you want to save or create a python file then you must name it like \"filename.py\" \n",
    "#### The .py extension is used by Python to recognize file containing Python Code. When you run a Python script, you can specify the name of the file without the extension and Python will automatically look for a file with that name and the .py extension in the current directory"
   ]
  },
  {
   "cell_type": "markdown",
   "id": "84fc54d4",
   "metadata": {},
   "source": [
    "### Q.5 Is Python code compiled or interpreted?\n",
    "\n",
    "#### Ans: In various books of python programming, it is mentioned that python language is interpreted. But that is half correct the python program is first compiled and then interpreted. The compilation part is hidden from the programmer thus, many programmers believe that it is an interpreted language. The compilation part is done first when we execute our code and this will generate byte code and internally this byte code gets converted by the python virtual machine(p.v.m) according to the underlying platform(machine+operating system)."
   ]
  },
  {
   "cell_type": "markdown",
   "id": "013075a8",
   "metadata": {},
   "source": [
    "### Q.6 Name a Few blocks of code used to define in Python Language?\n",
    "### Ans: In Python, code is organized into blocks, which are groups of statements that are executed together. There are several types of blocks that are commonly used in Python:\n",
    "\n",
    "#### 1. Functions: A function is a block of code that performs a specific task. It is defined using the \"def\" keyword, followed by the function name and a set of parentheses containing any arguments the function takes.\n",
    "#### 2. Conditional statements:- if, elif and else keywords.\n",
    "#### 3. Loops: For-loop, while-loop\n",
    "#### 4. Classes : A class is a blueprint for creating objects that have certain properties and behaviors. It is defined using the \"class\" keyword, followed by the class name and a set of parentheses containing any parent classes the class inherits from.\n",
    "#### 5. Modules: : A module is a file containing Python code that can be imported into other Python programs. It is defined using a \".py\" file extension and can contain any number of functions, classes, and other code.\n",
    "#### 6. Blocks: In Python, blocks of code can also be created using indentation. Any set of statements that are indented under a certain line of code belong to that block."
   ]
  },
  {
   "cell_type": "markdown",
   "id": "c03534e0",
   "metadata": {},
   "source": [
    "### Q.7 State a character used to give single-line comments in Python?\n",
    "#### Ans: In Python, the \"#\" character is used to indicate a single-line comment. Any text that appears after the \"#\" character on a line is considered a comment and is ignored by the Python interpreter.\n"
   ]
  },
  {
   "cell_type": "markdown",
   "id": "16e8a219",
   "metadata": {},
   "source": [
    "### Q.8 Mention functions which can hep us to find the version of python that we are currently working on?\n",
    "#### Ans: There are several ways to find the version of Python that you are currently working with:\n",
    "#### Using the sys module: The sys module provides access to some variables used or maintained by the interpreter and to functions that interact strongly with the interpreter. To find the version of Python installed on your system using the sys module, you can use the following code: \n",
    "#### import sys\n",
    "#### print(sys.version)\n",
    "This will print the version of Python installed on our system \n",
    "\n",
    "#### The next is using Command line: if you have Python installed on your system, then you can open command prompt in windows and terminal iin MacOS or Linux and the type the code:\n",
    "#### python --version\n",
    "### This will print the version pf Python installed on your system "
   ]
  },
  {
   "cell_type": "markdown",
   "id": "d14e9c59",
   "metadata": {},
   "source": [
    "### Q.9 Python supports the creation of anonymous functions at  runtime, using a construct called .....\n",
    "#### Ans: Python supports the creation of anonymous functions at runtime, using a construct called lambda functions.\n",
    "#### A lambda function is a small anonymous function that can take any number of arguments, but can only have one expression."
   ]
  },
  {
   "cell_type": "markdown",
   "id": "7156434f",
   "metadata": {},
   "source": [
    "### Q.10 What does pip stands for python ?\n",
    "#### Ans: \"pip\" stands for \"Pip installs Packages\". It is a package manager for Python that allows you to easily install, manage  and uninstall third-party Python Packages(also known as modules or libraries) from the Python Package Index(PyPI) or other repositories. \n",
    "#### With pip, you can install packages from the command line by simply typing pip install \"package-name\",and pip will automatically download and install the package and its dependencies."
   ]
  },
  {
   "cell_type": "markdown",
   "id": "5f6fd1ad",
   "metadata": {},
   "source": [
    "### Q.11 Mention a few built-in functions in python?\n",
    "#### Ans: \n",
    "\n",
    "#### Python has many built-in functions that are available for use without the need for importing any modules. Here are some commonly used built-in functions in Python:\n",
    "\n",
    "#### --> print(): This function is used to print text or values to the console.\n",
    "\n",
    "#### --> Input(): This function is used to get user input from the console.\n",
    "\n",
    "##### --> len(): This function is used to get the length of an object, such as a string or a list.\n",
    "\n",
    "#### --> type(): This function is used to get the type of an object.\n",
    "\n",
    "#### --> range(): This function is used to generate a sequence of numbers.\n",
    "\n",
    "#### --> max(): This function is used to get the maximum value from a sequence of numbers.\n",
    "\n",
    "#### --> min(): This function is used to get the minimum value from a sequence of numbers.\n",
    "\n",
    "#### --> sum(): This function is used to get the sum of a sequence of numbers.\n",
    "\n",
    "#### --> sorted(): This function is used to sort a sequence of objects.\n",
    "\n",
    "#### --> abs(): This function is used to get the absolute value of a number.\n",
    "\n",
    "#### --> str(): This function is used to convert an object to a string.\n",
    "\n",
    "#### --> int(): This function is used to convert a string or float to an integer.\n",
    "\n",
    "#### --> float(): This function is used to convert a string or integer to a float.\n",
    "\n",
    "#### --> bool(): This function is used to convert a value to a Boolean (True or False).\n",
    "\n",
    "#### --> These are just a few of the built-in functions available in Python. There are many more, and you can find a complete list in the Python documentation. -->"
   ]
  },
  {
   "cell_type": "markdown",
   "id": "e2377389",
   "metadata": {},
   "source": [
    "### Q.12 What is the maximum possible length of an identifier in Python?\n",
    "#### Ans: The maximum possible length of an identifier (variable name, function name, etc.) in Python is technically unlimited. However, for readability purposes, it is recommended to keep the length of identifiers reasonable and descriptive. According to the Python style guide (PEP 8), variable names should be lowercase with words separated by underscores, and function names should be lowercase with words separated by underscores, or use mixedCase if preferred. It is also recommended to avoid using single-character variable names, except for cases like indexing (i, j, k), and to avoid using reserved keywords as variable names."
   ]
  },
  {
   "cell_type": "markdown",
   "id": "f58cae0d",
   "metadata": {},
   "source": [
    "### Q.13 What are the benefits of using Python?\n",
    "#### Ans: Python is a Powerful,versatile, and easy-to-learn programming language that has many benifits. Some Python benefits of using Pyton are:\n",
    "### 1.Easy to Learn and Use: Python has a simple syntax and structure, which makes it easy to learn and use. Its code is highly readable and intuitive, which reduces the cost of program maintenance and development.\n",
    "### 2.Versatile: Python can be used for a wide variety of applications, including web development, machine learning, data analysis, scientific computing, automation, and more.\n",
    "\n",
    "### 3.Large Standard Library: Python comes with a large standard library that provides many built-in functions and modules, making it easy to perform common tasks without the need for third-party libraries.\n",
    "\n",
    "### 4.Third-Party Libraries and Frameworks: Python has a large and active community of developers who have created many third-party libraries and frameworks, which extend its functionality for specific use cases. Examples include NumPy, Pandas, Matplotlib, Django, Flask, and many more.\n",
    "\n",
    "### 5.Cross-Platform: Python code can run on multiple operating systems, including Windows, macOS, Linux, and others.\n",
    "\n",
    "### 6.Dynamic Typing: Python uses dynamic typing, which means you don't need to declare variable types before using them. This makes it easy to write and read code, and reduces the amount of code needed to perform a task.\n",
    "\n",
    "### 7.Interpreted: Python code is interpreted, which means you can run it directly without the need for a compilation step. This reduces the development time and makes it easy to test and debug your code.\n",
    "\n",
    "### 8.Open Source: Python is open-source, which means its source code is freely available to everyone. This encourages collaboration and innovation within the developer community, and ensures that Python remains up-to-date and relevant."
   ]
  },
  {
   "cell_type": "markdown",
   "id": "46b5a14f",
   "metadata": {},
   "source": [
    "### Q.14 How is memory managed in Python?\n",
    "#### Memory management in Python is handled automatically by the Python interpreter, using a combination of reference counting and a garbage collector.\n",
    "#### Reference counting is a simple and efficient memory management technique that keeps track of the number of references to an object. When the number of references to an object becomes zero, the object is deleted from memory. This mechanism ensures that memory is freed as soon as an object is no longer needed.\n",
    "\n",
    "#### However, reference counting alone is not sufficient to manage all memory in Python, especially in the case of circular references, where two or more objects refer to each other, and their reference count never reaches zero. To handle these cases, Python uses a garbage collector, which periodically scans the memory to detect and remove circular references and other objects that are no longer in use.\n",
    "\n",
    "#### Python's garbage collector is based on the concept of generations, which means that objects are divided into different generations based on their age. New objects are created in the youngest generation (generation 0), and as they survive and become older, they are moved to older generations (generation 1, 2, and so on). The garbage collector is more aggressive in cleaning up younger generations, which tend to contain more short-lived objects.\n",
    "\n",
    "#### Overall, Python's memory management system is designed to be efficient and automatic, so that developers can focus on writing code without worrying about memory allocation and deallocation. However, it's still important for developers to be aware of memory usage and to avoid creating unnecessary objects or circular references that could lead to memory leaks or performance issues."
   ]
  },
  {
   "cell_type": "markdown",
   "id": "56c11b35",
   "metadata": {},
   "source": [
    "### Q.15  How to install Python on windows and set path variables?\n",
    "#### Ans: The steps for installing Python and setting path variables in windows are as follows:\n",
    "#### First go to the Official Python website or type download python in your browers than there will be official website for downloading Python click on it and download the latest python version.\n",
    "#### After downloading Python now we have to install it by double tapping on the Python file in your download folder. after double clicking it start installing automatically in your system. Follow the rest of the installation propmts to complete the installation process\n",
    "#### AFter Completly installation., Now go to Command Prompt and type \"python --version\" and the output should be python is successfully installed and it also shows python version as 2.10.9 \n",
    "#### If u havent check the \"Add Python X.y to Path\" during installation, you can set you path manually . To do this you have to go \"Advance System settings\" then click on the \"Environment Variables\"  button. Under \"System variables\", scroll down and find the \"Path\" variable. Click on \"Edit\", then add the path to the Python executable to the list of paths. For example, if Python is installed in the \"C:\\Python37\" folder, add \"C:\\Python37\" to the path variable.\n",
    "#### After setting the path variables, open a new command prompt and type \"python\" to verify that Python is installed correctly and the path variables are set. You should see the Python version number displayed in the command prompt.\n",
    "\n",
    "#### That's it! You have successfully installed Python on Windows and set the path variables."
   ]
  },
  {
   "cell_type": "markdown",
   "id": "505b6b31",
   "metadata": {},
   "source": [
    "### Q.16 Is indentation required in Python?\n",
    "#### Ans: Yes, indentation is required in Python. Unlike many other programming languages, Python uses indentation to indicate blocks of code, instead of using curly braces or other symbols.\n",
    "\n",
    "#### The amount of indentation is important, as it determines which lines of code belong to the same block. Typically, each level of indentation is four spaces, although some developers prefer to use two spaces or another number of spaces."
   ]
  },
  {
   "cell_type": "code",
   "execution_count": null,
   "id": "1b65e1cc",
   "metadata": {},
   "outputs": [],
   "source": []
  }
 ],
 "metadata": {
  "kernelspec": {
   "display_name": "Python 3 (ipykernel)",
   "language": "python",
   "name": "python3"
  },
  "language_info": {
   "codemirror_mode": {
    "name": "ipython",
    "version": 3
   },
   "file_extension": ".py",
   "mimetype": "text/x-python",
   "name": "python",
   "nbconvert_exporter": "python",
   "pygments_lexer": "ipython3",
   "version": "3.10.9"
  }
 },
 "nbformat": 4,
 "nbformat_minor": 5
}
